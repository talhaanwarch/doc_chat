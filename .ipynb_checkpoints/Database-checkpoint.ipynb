{
 "cells": [
  {
   "cell_type": "code",
   "execution_count": 7,
   "id": "46f750c4",
   "metadata": {},
   "outputs": [],
   "source": [
    "import psycopg2\n",
    "\n",
    "class DatabaseManager:\n",
    "    def __init__(self, dbname, user, password, host, port):\n",
    "        self.dbname = dbname\n",
    "        self.user = user\n",
    "        self.password = password\n",
    "        self.host = host\n",
    "        self.port = port\n",
    "\n",
    "    def create_connection(self):\n",
    "        try:\n",
    "            connection = psycopg2.connect(\n",
    "                dbname=self.dbname,\n",
    "                user=self.user,\n",
    "                password=self.password,\n",
    "                host=self.host,\n",
    "                port=self.port\n",
    "            )\n",
    "            return connection\n",
    "        except psycopg2.Error as e:\n",
    "            print(\"Error connecting to PostgreSQL database:\", e)\n",
    "            return None\n",
    "    \n",
    "    def create_database(self):\n",
    "        try:\n",
    "            connection = self.create_connection()\n",
    "            connection.autocommit = True\n",
    "            cursor = connection.cursor()\n",
    "            cursor.execute(\"CREATE DATABASE \" + self.dbname)\n",
    "            print(\"Database '{}' created successfully.\".format(self.dbname))\n",
    "        except psycopg2.Error as e:\n",
    "            print(\"Error creating PostgreSQL database:\", e)\n",
    "        finally:\n",
    "            if cursor:\n",
    "                cursor.close()\n",
    "            if connection:\n",
    "                connection.close()\n",
    "\n",
    "    def create_table(self):\n",
    "        connection = self.create_connection()\n",
    "        if connection:\n",
    "            try:\n",
    "                cursor = connection.cursor()\n",
    "                create_table_query = '''\n",
    "                    CREATE TABLE IF NOT EXISTS sparkdb (\n",
    "                        id SERIAL PRIMARY KEY,\n",
    "                        prompt TEXT,\n",
    "                        prompt_id TEXT,\n",
    "                        corr_id TEXT\n",
    "                    );\n",
    "                '''\n",
    "                cursor.execute(create_table_query)\n",
    "                connection.commit()\n",
    "                print(\"Table created successfully.\")\n",
    "            except psycopg2.Error as e:\n",
    "                print(\"Error creating table:\", e)\n",
    "            finally:\n",
    "                if cursor:\n",
    "                    cursor.close()\n",
    "                connection.close()\n",
    "    \n",
    "\n",
    "    def display_table(self,table_name):\n",
    "        connection = self.create_connection()\n",
    "        # Create a cursor object to interact with the database\n",
    "        cur = connection.cursor()\n",
    "\n",
    "        # Execute a SELECT query to retrieve data from a table\n",
    "        cur.execute(f\"SELECT * FROM {table_name}\")\n",
    "\n",
    "        # Fetch all the rows from the result set\n",
    "        rows = cur.fetchall()\n",
    "\n",
    "        # Print the data\n",
    "        for row in rows:\n",
    "            print(row)\n",
    "\n",
    "        # Close the cursor and the connection\n",
    "        cur.close()\n",
    "        connection.close()\n",
    "    \n",
    "    \n",
    "    def delete_table(self, table_name):\n",
    "        connection = self.create_connection()\n",
    "        if connection:\n",
    "            try:\n",
    "                cursor = connection.cursor()\n",
    "                delete_table_query = f\"DROP TABLE IF EXISTS {table_name}\"\n",
    "                cursor.execute(delete_table_query)\n",
    "                connection.commit()\n",
    "                print(\"Table deleted successfully.\")\n",
    "            except psycopg2.Error as e:\n",
    "                print(\"Error deleting table:\", e)\n",
    "            finally:\n",
    "                if cursor:\n",
    "                    cursor.close()\n",
    "                connection.close()\n",
    "\n",
    "\n",
    "    def list_tables(self):\n",
    "        connection = self.create_connection()\n",
    "        if connection:\n",
    "            try:\n",
    "                cursor = connection.cursor()\n",
    "                cursor.execute(\"SELECT table_name FROM information_schema.tables WHERE table_schema='public';\")\n",
    "                tables = cursor.fetchall()\n",
    "                print(\"Tables in the database:\")\n",
    "                for table in tables:\n",
    "                    print(table[0])\n",
    "            except psycopg2.Error as e:\n",
    "                print(\"Error listing tables:\", e)\n",
    "            finally:\n",
    "                if cursor:\n",
    "                    cursor.close()\n",
    "                connection.close()\n",
    "                \n",
    "\n",
    "\n",
    "            \n"
   ]
  },
  {
   "cell_type": "code",
   "execution_count": 8,
   "id": "205e3207",
   "metadata": {},
   "outputs": [],
   "source": [
    "# Example usage:\n",
    "manager = DatabaseManager(\"sparkdb\", \"postgres\", \"talha1234\", \"localhost\", \"5432\")"
   ]
  },
  {
   "cell_type": "code",
   "execution_count": 9,
   "id": "24bfdb8e",
   "metadata": {},
   "outputs": [
    {
     "name": "stdout",
     "output_type": "stream",
     "text": [
      "Tables in the database:\n",
      "completion_activity_log\n",
      "promptdb\n",
      "prompt_templates\n",
      "app_configs\n",
      "querydb\n"
     ]
    }
   ],
   "source": [
    "manager.list_tables()"
   ]
  },
  {
   "cell_type": "code",
   "execution_count": 10,
   "id": "fe0d59f2",
   "metadata": {},
   "outputs": [
    {
     "name": "stdout",
     "output_type": "stream",
     "text": [
      "(1, 'what is cnn?', 'CNN stands for Convolutional Neural Network. It is a type of deep learning algorithm that is commonly used in computer vision tasks such as image recognition, object detection, and segmentation. CNNs are designed to automatically learn hierarchical representations of data by applying convolutional layers, pooling layers, and fully connected layers. They are known for their ability to effectively process and extract features from large datasets, especially images, but may have limitations in tasks requiring contextual knowledge like natural language processing (NLP). Despite their drawbacks, CNNs remain a widely used and effective tool in the field of artificial neural networks.', '1dfd48ed-0400-4ec1-896d-11a95bf37d74')\n"
     ]
    },
    {
     "ename": "NameError",
     "evalue": "name 'conn' is not defined",
     "output_type": "error",
     "traceback": [
      "\u001b[0;31m---------------------------------------------------------------------------\u001b[0m",
      "\u001b[0;31mNameError\u001b[0m                                 Traceback (most recent call last)",
      "\u001b[0;32m/tmp/ipykernel_88565/1724995236.py\u001b[0m in \u001b[0;36m<cell line: 1>\u001b[0;34m()\u001b[0m\n\u001b[0;32m----> 1\u001b[0;31m \u001b[0mmanager\u001b[0m\u001b[0;34m.\u001b[0m\u001b[0mdisplay_table\u001b[0m\u001b[0;34m(\u001b[0m\u001b[0;34m\"querydb\"\u001b[0m\u001b[0;34m)\u001b[0m\u001b[0;34m\u001b[0m\u001b[0;34m\u001b[0m\u001b[0m\n\u001b[0m",
      "\u001b[0;32m/tmp/ipykernel_88565/1927877999.py\u001b[0m in \u001b[0;36mdisplay_table\u001b[0;34m(self, table_name)\u001b[0m\n\u001b[1;32m     79\u001b[0m         \u001b[0;31m# Close the cursor and the connection\u001b[0m\u001b[0;34m\u001b[0m\u001b[0;34m\u001b[0m\u001b[0m\n\u001b[1;32m     80\u001b[0m         \u001b[0mcur\u001b[0m\u001b[0;34m.\u001b[0m\u001b[0mclose\u001b[0m\u001b[0;34m(\u001b[0m\u001b[0;34m)\u001b[0m\u001b[0;34m\u001b[0m\u001b[0;34m\u001b[0m\u001b[0m\n\u001b[0;32m---> 81\u001b[0;31m         \u001b[0mconn\u001b[0m\u001b[0;34m.\u001b[0m\u001b[0mclose\u001b[0m\u001b[0;34m(\u001b[0m\u001b[0;34m)\u001b[0m\u001b[0;34m\u001b[0m\u001b[0;34m\u001b[0m\u001b[0m\n\u001b[0m\u001b[1;32m     82\u001b[0m \u001b[0;34m\u001b[0m\u001b[0m\n\u001b[1;32m     83\u001b[0m \u001b[0;34m\u001b[0m\u001b[0m\n",
      "\u001b[0;31mNameError\u001b[0m: name 'conn' is not defined"
     ]
    }
   ],
   "source": [
    "manager.display_table(\"querydb\")"
   ]
  },
  {
   "cell_type": "code",
   "execution_count": null,
   "id": "64e66d17",
   "metadata": {},
   "outputs": [],
   "source": []
  }
 ],
 "metadata": {
  "kernelspec": {
   "display_name": "Python 3 (ipykernel)",
   "language": "python",
   "name": "python3"
  },
  "language_info": {
   "codemirror_mode": {
    "name": "ipython",
    "version": 3
   },
   "file_extension": ".py",
   "mimetype": "text/x-python",
   "name": "python",
   "nbconvert_exporter": "python",
   "pygments_lexer": "ipython3",
   "version": "3.10.6"
  }
 },
 "nbformat": 4,
 "nbformat_minor": 5
}
